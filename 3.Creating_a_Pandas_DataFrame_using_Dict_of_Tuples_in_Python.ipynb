{
  "nbformat": 4,
  "nbformat_minor": 0,
  "metadata": {
    "colab": {
      "provenance": []
    },
    "kernelspec": {
      "name": "python3",
      "display_name": "Python 3"
    },
    "language_info": {
      "name": "python"
    }
  },
  "cells": [
    {
      "cell_type": "code",
      "execution_count": 7,
      "metadata": {
        "colab": {
          "base_uri": "https://localhost:8080/"
        },
        "id": "2Tvtvozxepde",
        "outputId": "e5eb721e-07cd-4bd7-9366-a50c56329ce4"
      },
      "outputs": [
        {
          "output_type": "stream",
          "name": "stdout",
          "text": [
            "        A       B\n",
            "0  (1, x)  (4, p)\n",
            "1  (2, y)  (5, q)\n",
            "2  (3, z)  (6, r)\n"
          ]
        }
      ],
      "source": [
        "# Using pandas.DataFrame.from_dict() Method\n",
        "\n",
        "import pandas as pd\n",
        "data={'A':[(1,'x'), (2, 'y'), (3, 'z')],\n",
        "      'B':[(4, 'p'), (5, 'q'), (6, 'r')]}\n",
        "\n",
        "df=pd.DataFrame.from_dict(data, orient='index').transpose()\n",
        "print(df)"
      ]
    },
    {
      "cell_type": "code",
      "source": [
        "df.ndim"
      ],
      "metadata": {
        "colab": {
          "base_uri": "https://localhost:8080/"
        },
        "id": "2g2z2i80fFqJ",
        "outputId": "1f3fc6b1-9365-414e-9217-b318007e8dca"
      },
      "execution_count": 8,
      "outputs": [
        {
          "output_type": "execute_result",
          "data": {
            "text/plain": [
              "2"
            ]
          },
          "metadata": {},
          "execution_count": 8
        }
      ]
    },
    {
      "cell_type": "code",
      "source": [
        "# Using pandas.DataFrame() Method\n",
        "\n",
        "import pandas as pd\n",
        "\n",
        "data={'A':[(1,'x'), (2, 'y'), (3, 'z')],\n",
        "      'B':[(4, 'p'), (5, 'q'), (6, 'r')]}\n",
        "k=pd.DataFrame(data)\n",
        "print(k)"
      ],
      "metadata": {
        "colab": {
          "base_uri": "https://localhost:8080/"
        },
        "id": "gQtgszRNfc6F",
        "outputId": "16b1776d-585d-40ff-b873-6885f414fb0d"
      },
      "execution_count": 10,
      "outputs": [
        {
          "output_type": "stream",
          "name": "stdout",
          "text": [
            "        A       B\n",
            "0  (1, x)  (4, p)\n",
            "1  (2, y)  (5, q)\n",
            "2  (3, z)  (6, r)\n"
          ]
        }
      ]
    },
    {
      "cell_type": "code",
      "source": [],
      "metadata": {
        "id": "3Z2EpI6IftQZ"
      },
      "execution_count": null,
      "outputs": []
    }
  ]
}