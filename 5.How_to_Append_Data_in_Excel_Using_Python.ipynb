{
  "nbformat": 4,
  "nbformat_minor": 0,
  "metadata": {
    "colab": {
      "provenance": []
    },
    "kernelspec": {
      "name": "python3",
      "display_name": "Python 3"
    },
    "language_info": {
      "name": "python"
    }
  },
  "cells": [
    {
      "cell_type": "code",
      "execution_count": 13,
      "metadata": {
        "id": "LaEGcIfeIvE-"
      },
      "outputs": [],
      "source": [
        "import pandas as pd\n",
        "\n",
        "x='Cola.xlsx'\n",
        "\n",
        "new_data={'Name':['Bob'], 'Age':[28], 'Salary':[55000]}\n",
        "\n",
        "da=pd.DataFrame(new_data)\n",
        "\n",
        "ka=pd.read_excel(x)\n",
        "\n",
        "df_combined=pd.concat([ka, da], ignore_index=True)\n"
      ]
    },
    {
      "cell_type": "code",
      "source": [
        "df_combined.to_excel(x, index=False)"
      ],
      "metadata": {
        "id": "sJ1gaeRQLQJZ"
      },
      "execution_count": 18,
      "outputs": []
    },
    {
      "cell_type": "code",
      "source": [
        "!pip install openpyxl"
      ],
      "metadata": {
        "colab": {
          "base_uri": "https://localhost:8080/"
        },
        "id": "D4KAywfNMm6l",
        "outputId": "aa76dc62-e80f-47e2-9e98-2ccaa906b2af"
      },
      "execution_count": 20,
      "outputs": [
        {
          "output_type": "stream",
          "name": "stdout",
          "text": [
            "Requirement already satisfied: openpyxl in /usr/local/lib/python3.10/dist-packages (3.1.5)\n",
            "Requirement already satisfied: et-xmlfile in /usr/local/lib/python3.10/dist-packages (from openpyxl) (1.1.0)\n"
          ]
        }
      ]
    },
    {
      "cell_type": "code",
      "source": [
        "d={'Name':['Vipin', 'Chetan', 'anirudhacharya'], 'age':[23,34,234], 'salary':[3000,4000,5000]}\n",
        "e=pd.DataFrame(d)"
      ],
      "metadata": {
        "colab": {
          "base_uri": "https://localhost:8080/"
        },
        "id": "2kzrgpLjNKS2",
        "outputId": "6528a4e2-1b0d-4aea-dfde-a7ac3d5fafe2"
      },
      "execution_count": 22,
      "outputs": [
        {
          "output_type": "execute_result",
          "data": {
            "text/plain": [
              "2"
            ]
          },
          "metadata": {},
          "execution_count": 22
        }
      ]
    },
    {
      "cell_type": "code",
      "source": [
        "e.to_excel('out.xlsx', index=False)"
      ],
      "metadata": {
        "id": "VQPmF1RMO0g-"
      },
      "execution_count": 24,
      "outputs": []
    },
    {
      "cell_type": "code",
      "source": [
        "e.to_excel('out1.xlsx', index=True)"
      ],
      "metadata": {
        "id": "6e2R7U29PV--"
      },
      "execution_count": 25,
      "outputs": []
    },
    {
      "cell_type": "code",
      "source": [
        "e.to_csv('out2.csv', index=False)"
      ],
      "metadata": {
        "id": "xFPZhwgGQFwm"
      },
      "execution_count": 26,
      "outputs": []
    },
    {
      "cell_type": "code",
      "source": [],
      "metadata": {
        "id": "EOZwNlEjQY-p"
      },
      "execution_count": null,
      "outputs": []
    }
  ]
}