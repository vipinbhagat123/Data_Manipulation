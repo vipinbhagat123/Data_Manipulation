{
  "nbformat": 4,
  "nbformat_minor": 0,
  "metadata": {
    "colab": {
      "provenance": []
    },
    "kernelspec": {
      "name": "python3",
      "display_name": "Python 3"
    },
    "language_info": {
      "name": "python"
    }
  },
  "cells": [
    {
      "cell_type": "code",
      "execution_count": 1,
      "metadata": {
        "colab": {
          "base_uri": "https://localhost:8080/"
        },
        "id": "CTHmBopwUvGq",
        "outputId": "c2cf7545-99af-4429-cc61-6c9e5b143225"
      },
      "outputs": [
        {
          "output_type": "stream",
          "name": "stdout",
          "text": [
            "[{'name': 'Charlie', 'age': 28, 'city': 'New York'}]\n"
          ]
        }
      ],
      "source": [
        "data = [\n",
        "    {'name': 'Alice', 'age': 25, 'city': 'New York'},\n",
        "    {'name': 'Bob', 'age': 30, 'city': 'San Francisco'},\n",
        "    {'name': 'Charlie', 'age': 28, 'city': 'New York'},]\n",
        "\n",
        "filtered_data=[item for item in data if item['age']>25 and item['city']=='New York']\n",
        "print(filtered_data)"
      ]
    },
    {
      "cell_type": "code",
      "source": [
        "type(data)"
      ],
      "metadata": {
        "colab": {
          "base_uri": "https://localhost:8080/"
        },
        "id": "23kHDPm2iK8c",
        "outputId": "5a0c98b9-11be-4316-9ec3-74792485e677"
      },
      "execution_count": 2,
      "outputs": [
        {
          "output_type": "execute_result",
          "data": {
            "text/plain": [
              "list"
            ]
          },
          "metadata": {},
          "execution_count": 2
        }
      ]
    },
    {
      "cell_type": "code",
      "source": [
        "data = [\n",
        "    {'name': 'Alice', 'age': 25, 'city': 'New York'},\n",
        "    {'name': 'Bob', 'age': 30, 'city': 'San Francisco'},\n",
        "    {'name': 'Charlie', 'age': 28, 'city': 'New York'},\n",
        "    # ... additional dictionaries ...\n",
        "]\n",
        "\n",
        "filtered_data = list(filter(lambda x: x['age'] > 25 and x['city'] == 'New York', data))\n",
        "print(filtered_data)"
      ],
      "metadata": {
        "colab": {
          "base_uri": "https://localhost:8080/"
        },
        "id": "M0dqmUUuiQbJ",
        "outputId": "21b47b0a-52b8-40e6-f9dd-ab7574031376"
      },
      "execution_count": 3,
      "outputs": [
        {
          "output_type": "stream",
          "name": "stdout",
          "text": [
            "[{'name': 'Charlie', 'age': 28, 'city': 'New York'}]\n"
          ]
        }
      ]
    },
    {
      "cell_type": "code",
      "source": [
        "import pandas as pd\n",
        "\n",
        "data = [\n",
        "    {'name': 'Alice', 'age': 25, 'city': 'New York'},\n",
        "    {'name': 'Bob', 'age': 30, 'city': 'San Francisco'},\n",
        "    {'name': 'Charlie', 'age': 28, 'city': 'New York'},\n",
        "    # ... additional dictionaries ...\n",
        "]\n",
        "\n",
        "df = pd.DataFrame(data)\n",
        "filtered_data = df[(df['age'] > 25) & (df['city'] == 'New York')].to_dict('records')\n",
        "print(filtered_data)"
      ],
      "metadata": {
        "colab": {
          "base_uri": "https://localhost:8080/"
        },
        "id": "z_AAWncmiXRV",
        "outputId": "1f6fc5db-1084-4438-fd69-852f0bb8bd7b"
      },
      "execution_count": 4,
      "outputs": [
        {
          "output_type": "stream",
          "name": "stdout",
          "text": [
            "[{'name': 'Charlie', 'age': 28, 'city': 'New York'}]\n"
          ]
        }
      ]
    },
    {
      "cell_type": "code",
      "source": [
        "def custom_filter(item):\n",
        "    return item['age'] > 25 and item['city'] == 'New York'\n",
        "\n",
        "data = [\n",
        "    {'name': 'Alice', 'age': 25, 'city': 'New York'},\n",
        "    {'name': 'Bob', 'age': 30, 'city': 'San Francisco'},\n",
        "    {'name': 'Charlie', 'age': 28, 'city': 'New York'},\n",
        "    # ... additional dictionaries ...\n",
        "]\n",
        "\n",
        "filtered_data = list(filter(custom_filter, data))\n",
        "print(filtered_data)"
      ],
      "metadata": {
        "colab": {
          "base_uri": "https://localhost:8080/"
        },
        "id": "LX9fWnGwiqKF",
        "outputId": "e6a6d4f8-11e9-4366-f9ab-fadebec28532"
      },
      "execution_count": 5,
      "outputs": [
        {
          "output_type": "stream",
          "name": "stdout",
          "text": [
            "[{'name': 'Charlie', 'age': 28, 'city': 'New York'}]\n"
          ]
        }
      ]
    },
    {
      "cell_type": "code",
      "source": [],
      "metadata": {
        "id": "FEw4Esyjitp6"
      },
      "execution_count": null,
      "outputs": []
    }
  ]
}